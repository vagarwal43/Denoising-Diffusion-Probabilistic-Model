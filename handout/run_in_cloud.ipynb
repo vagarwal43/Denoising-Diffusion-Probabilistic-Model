{
 "cells": [
  {
   "cell_type": "code",
   "execution_count": null,
   "metadata": {},
   "outputs": [],
   "source": [
    "# On Kaggle\n",
    "# 1. Attach a GPU (see recitation for details on how to do these steps.)\n",
    "# 2. Enable file persistence (see recitation for details on how to do these steps.)"
   ]
  },
  {
   "cell_type": "code",
   "execution_count": null,
   "metadata": {},
   "outputs": [],
   "source": [
    "# Uncomment this on Colab\n",
    "\n",
    "# # Mount your Google Drive to Colab\n",
    "# from google.colab import drive\n",
    "# drive.mount('/content/drive')\n",
    "# %cd path_to_your_project\n",
    "# !pwd"
   ]
  },
  {
   "cell_type": "code",
   "execution_count": null,
   "metadata": {},
   "outputs": [],
   "source": [
    "# Download the dataset afhq_v2.zip (6.48G). \n",
    "# On Colab, if you save to your drive (by running %cd path_to_your_project), you only need to do this once.\n",
    "!mkdir -p ./data\n",
    "!wget -N https://www.dropbox.com/s/vkzjokiwof5h8w6/afhq_v2.zip?dl=0 -O ./data/afhq_v2.zip\n",
    "!unzip -q ./data/afhq_v2.zip -d ./data"
   ]
  },
  {
   "cell_type": "code",
   "execution_count": null,
   "metadata": {},
   "outputs": [],
   "source": [
    "# Fetch the homework files.\n",
    "# On Colab, if you save to your drive (by running %cd path_to_your_project), you only need to do this once.\n",
    "!wget http://www.cs.cmu.edu/~mgormley/courses/10423/homework/hw2.zip\n",
    "!unzip hw2.zip\n",
    "!mv handout/* ."
   ]
  },
  {
   "cell_type": "code",
   "execution_count": null,
   "metadata": {},
   "outputs": [],
   "source": [
    "# Set up the environment\n",
    "!pip install --quiet -r requirements.txt\n",
    "\n",
    "from utils import train_diffusion, visualize_diffusion"
   ]
  },
  {
   "cell_type": "code",
   "execution_count": null,
   "metadata": {},
   "outputs": [],
   "source": [
    "## COPY / PASTE YOUR ENTIRE DIFFUSION.PY FILE HERE\n",
    "\n"
   ]
  },
  {
   "cell_type": "code",
   "execution_count": null,
   "metadata": {},
   "outputs": [],
   "source": [
    "args = {\n",
    "    \"save_folder\": \"./results/\",\n",
    "    \"data_path\": \"./data/train\",\n",
    "    \"train_steps\": ...,\n",
    "    \"save_and_sample_every\": ...,\n",
    "    \"fid\": ...,\n",
    "}"
   ]
  },
  {
   "cell_type": "code",
   "execution_count": null,
   "metadata": {},
   "outputs": [],
   "source": [
    "# Train the model: If you use colab T4 to train the model, the training process will probably take 2 hours.\n",
    "train_diffusion(**args, Diffusion=Diffusion)"
   ]
  },
  {
   "cell_type": "code",
   "execution_count": null,
   "metadata": {},
   "outputs": [],
   "source": [
    "# # Visualize the forward and backward process\n",
    "visualize_diffusion(**args, load_path=\"./results/model.pt\", Diffusion=Diffusion)"
   ]
  }
 ],
 "metadata": {
  "language_info": {
   "name": "python"
  }
 },
 "nbformat": 4,
 "nbformat_minor": 2
}
